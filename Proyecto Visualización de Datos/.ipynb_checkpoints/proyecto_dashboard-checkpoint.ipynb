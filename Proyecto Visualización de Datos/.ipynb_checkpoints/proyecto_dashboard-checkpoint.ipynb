{
 "cells": [
  {
   "cell_type": "code",
   "execution_count": 7,
   "metadata": {
    "ExecuteTime": {
     "end_time": "2024-04-19T03:13:27.274323Z",
     "start_time": "2024-04-19T03:13:27.263767Z"
    },
    "id": "6cQPwPLIeVJc"
   },
   "outputs": [],
   "source": [
    "import pandas as pd\n",
    "import numpy as np\n",
    "import seaborn as sns\n",
    "import matplotlib.pyplot as plt"
   ]
  },
  {
   "cell_type": "code",
   "execution_count": 8,
   "metadata": {
    "ExecuteTime": {
     "end_time": "2024-04-19T03:13:27.337135Z",
     "start_time": "2024-04-19T03:13:27.275456Z"
    }
   },
   "outputs": [
    {
     "data": {
      "text/html": [
       "<div>\n",
       "<style scoped>\n",
       "    .dataframe tbody tr th:only-of-type {\n",
       "        vertical-align: middle;\n",
       "    }\n",
       "\n",
       "    .dataframe tbody tr th {\n",
       "        vertical-align: top;\n",
       "    }\n",
       "\n",
       "    .dataframe thead th {\n",
       "        text-align: right;\n",
       "    }\n",
       "</style>\n",
       "<table border=\"1\" class=\"dataframe\">\n",
       "  <thead>\n",
       "    <tr style=\"text-align: right;\">\n",
       "      <th></th>\n",
       "      <th>Aircraft Type</th>\n",
       "      <th>Users Reviews</th>\n",
       "      <th>Country</th>\n",
       "      <th>Type_of_Travellers</th>\n",
       "      <th>Route</th>\n",
       "      <th>Seat_Types</th>\n",
       "      <th>Seat Comfort</th>\n",
       "      <th>Date Flown</th>\n",
       "      <th>Cabin Staff Service</th>\n",
       "      <th>Ground Service</th>\n",
       "      <th>Food &amp; Beverages</th>\n",
       "      <th>Wifi &amp; Connectivity</th>\n",
       "      <th>Inflight Entertainment</th>\n",
       "      <th>Value For Money</th>\n",
       "      <th>Recommended</th>\n",
       "    </tr>\n",
       "  </thead>\n",
       "  <tbody>\n",
       "    <tr>\n",
       "      <th>0</th>\n",
       "      <td>NaN</td>\n",
       "      <td>✅Trip Verified|  Cancelled our flight last-min...</td>\n",
       "      <td>United Kingdom</td>\n",
       "      <td>Couple Leisure</td>\n",
       "      <td>London Heathrow to Tokyo</td>\n",
       "      <td>Economy Class</td>\n",
       "      <td>1.0</td>\n",
       "      <td>Sep-23</td>\n",
       "      <td>1.0</td>\n",
       "      <td>2.0</td>\n",
       "      <td>1.0</td>\n",
       "      <td>NaN</td>\n",
       "      <td>3.0</td>\n",
       "      <td>1</td>\n",
       "      <td>no</td>\n",
       "    </tr>\n",
       "    <tr>\n",
       "      <th>1</th>\n",
       "      <td>NaN</td>\n",
       "      <td>✅Trip Verified| I had a flight from Miami, Flo...</td>\n",
       "      <td>United States</td>\n",
       "      <td>Solo Leisure</td>\n",
       "      <td>Miami to Dublin via London Heathrow</td>\n",
       "      <td>Business Class</td>\n",
       "      <td>1.0</td>\n",
       "      <td>Aug-23</td>\n",
       "      <td>3.0</td>\n",
       "      <td>1.0</td>\n",
       "      <td>2.0</td>\n",
       "      <td>1.0</td>\n",
       "      <td>1.0</td>\n",
       "      <td>1</td>\n",
       "      <td>no</td>\n",
       "    </tr>\n",
       "  </tbody>\n",
       "</table>\n",
       "</div>"
      ],
      "text/plain": [
       "  Aircraft Type                                      Users Reviews  \\\n",
       "0           NaN  ✅Trip Verified|  Cancelled our flight last-min...   \n",
       "1           NaN  ✅Trip Verified| I had a flight from Miami, Flo...   \n",
       "\n",
       "          Country Type_of_Travellers                                Route  \\\n",
       "0  United Kingdom     Couple Leisure             London Heathrow to Tokyo   \n",
       "1   United States       Solo Leisure  Miami to Dublin via London Heathrow   \n",
       "\n",
       "       Seat_Types  Seat Comfort Date Flown  Cabin Staff Service  \\\n",
       "0   Economy Class           1.0     Sep-23                  1.0   \n",
       "1  Business Class           1.0     Aug-23                  3.0   \n",
       "\n",
       "   Ground Service  Food & Beverages  Wifi & Connectivity  \\\n",
       "0             2.0               1.0                  NaN   \n",
       "1             1.0               2.0                  1.0   \n",
       "\n",
       "   Inflight Entertainment  Value For Money Recommended  \n",
       "0                     3.0                1          no  \n",
       "1                     1.0                1          no  "
      ]
     },
     "execution_count": 8,
     "metadata": {},
     "output_type": "execute_result"
    }
   ],
   "source": [
    "# Cargar el archivo CSV en un DataFrame de pandas\n",
    "data = pd.read_csv(\"Airlines Reviews and Rating.csv\")\n",
    "data.head(2)"
   ]
  },
  {
   "cell_type": "markdown",
   "metadata": {
    "id": "MnAqKk_SlYCp"
   },
   "source": [
    "# Limpieza Data"
   ]
  },
  {
   "cell_type": "markdown",
   "metadata": {
    "id": "oepQx5k9hX-A"
   },
   "source": [
    "## Transformación de fechas"
   ]
  },
  {
   "cell_type": "code",
   "execution_count": 9,
   "metadata": {
    "ExecuteTime": {
     "end_time": "2024-04-19T03:13:27.352671Z",
     "start_time": "2024-04-19T03:13:27.339137Z"
    },
    "id": "JFHpo-ZLhjvF"
   },
   "outputs": [],
   "source": [
    "# Agrega el año 2024 y convierte a formato de fecha\n",
    "data['Date Flown'] = pd.to_datetime(data['Date Flown'] + '-2024', format='%b-%d-%Y')\n",
    "\n",
    "# Crea la serie de tiempo\n",
    "serie_tiempo = pd.Series(data.index, index=data['Date Flown'])\n",
    "serie_tiempo_por_mes = serie_tiempo.resample('M').count()"
   ]
  },
  {
   "cell_type": "markdown",
   "metadata": {
    "id": "uiEfNJODkNR6"
   },
   "source": [
    "## Manejo de duplicados"
   ]
  },
  {
   "cell_type": "code",
   "execution_count": 10,
   "metadata": {
    "ExecuteTime": {
     "end_time": "2024-04-19T03:13:27.383559Z",
     "start_time": "2024-04-19T03:13:27.355671Z"
    },
    "colab": {
     "base_uri": "https://localhost:8080/"
    },
    "executionInfo": {
     "elapsed": 272,
     "status": "ok",
     "timestamp": 1713490223098,
     "user": {
      "displayName": "Yamira Roa",
      "userId": "12442332782614068861"
     },
     "user_tz": 240
    },
    "id": "LMhCJJA-kHMh",
    "outputId": "a5f23bf4-80b7-4d9e-c3f5-45e772a4c2e1"
   },
   "outputs": [
    {
     "data": {
      "text/plain": [
       "63"
      ]
     },
     "execution_count": 10,
     "metadata": {},
     "output_type": "execute_result"
    }
   ],
   "source": [
    "data.duplicated().sum()"
   ]
  },
  {
   "cell_type": "code",
   "execution_count": 11,
   "metadata": {
    "ExecuteTime": {
     "end_time": "2024-04-19T03:13:27.415380Z",
     "start_time": "2024-04-19T03:13:27.386561Z"
    },
    "colab": {
     "base_uri": "https://localhost:8080/"
    },
    "executionInfo": {
     "elapsed": 595,
     "status": "ok",
     "timestamp": 1713490223691,
     "user": {
      "displayName": "Yamira Roa",
      "userId": "12442332782614068861"
     },
     "user_tz": 240
    },
    "id": "W7DkDt0bkHPP",
    "outputId": "525b5840-9010-4bf7-9043-3fd3344e083f"
   },
   "outputs": [
    {
     "data": {
      "text/plain": [
       "0"
      ]
     },
     "execution_count": 11,
     "metadata": {},
     "output_type": "execute_result"
    }
   ],
   "source": [
    "data = data.drop_duplicates()\n",
    "data.duplicated().sum()"
   ]
  },
  {
   "cell_type": "markdown",
   "metadata": {
    "id": "X1JMIdwbldXL"
   },
   "source": [
    "# Graficos"
   ]
  },
  {
   "cell_type": "markdown",
   "metadata": {
    "id": "nHMDegCETYAx"
   },
   "source": [
    "## Coroplético"
   ]
  },
  {
   "cell_type": "code",
   "execution_count": 12,
   "metadata": {
    "ExecuteTime": {
     "end_time": "2024-04-19T03:13:27.445841Z",
     "start_time": "2024-04-19T03:13:27.417380Z"
    },
    "id": "eUQi-SlyveY3"
   },
   "outputs": [],
   "source": [
    "# Dividir la columna 'Route' en dos partes: origen y destino\n",
    "split_routes = data['Route'].str.split(' to ', n=1, expand=True)\n",
    "data['Origin'] = split_routes[0].str.strip().replace('London Heathrow', 'London')\n",
    "data['Destination'] = split_routes[1]\n",
    "split_routes = data['Destination'].str.split(' via ', n=1, expand=True)\n",
    "data['Destination'] = split_routes[0].str.strip().replace('London Heathrow', 'London')\n",
    "data['Destination'] = data['Destination'].str.strip().replace('LHR', 'London')\n",
    "data['Destination'] = data['Destination'].str.strip().replace('Gatwick', 'London')\n",
    "data['Destination'] = data['Destination'].str.strip().replace('Heathrow', 'London')\n",
    "data['Destination'] = data['Destination'].str.strip().replace('LGW', 'London')\n",
    "data['Destination'] = data['Destination'].str.strip().replace('London City', 'London')\n",
    "data['Destination'] = data['Destination'].str.strip().replace('London Gatwick', 'London')\n",
    "data['Destination'] = data['Destination'].str.strip().replace('JFK', 'New York')\n",
    "\n",
    "\n",
    "# Contar la frecuencia de los países\n",
    "country_counts = data['Destination'].value_counts()\n",
    "\n",
    "# Obtener el top de países más comunes\n",
    "df = country_counts.head(20).to_frame()\n",
    "df = df.reset_index()"
   ]
  },
  {
   "cell_type": "code",
   "execution_count": 15,
   "metadata": {
    "ExecuteTime": {
     "end_time": "2024-04-19T03:14:08.913687Z",
     "start_time": "2024-04-19T03:14:08.893250Z"
    }
   },
   "outputs": [
    {
     "data": {
      "text/html": [
       "<div>\n",
       "<style scoped>\n",
       "    .dataframe tbody tr th:only-of-type {\n",
       "        vertical-align: middle;\n",
       "    }\n",
       "\n",
       "    .dataframe tbody tr th {\n",
       "        vertical-align: top;\n",
       "    }\n",
       "\n",
       "    .dataframe thead th {\n",
       "        text-align: right;\n",
       "    }\n",
       "</style>\n",
       "<table border=\"1\" class=\"dataframe\">\n",
       "  <thead>\n",
       "    <tr style=\"text-align: right;\">\n",
       "      <th></th>\n",
       "      <th>index</th>\n",
       "      <th>Destination</th>\n",
       "      <th>Country</th>\n",
       "    </tr>\n",
       "  </thead>\n",
       "  <tbody>\n",
       "    <tr>\n",
       "      <th>0</th>\n",
       "      <td>London</td>\n",
       "      <td>1031</td>\n",
       "      <td>NaN</td>\n",
       "    </tr>\n",
       "    <tr>\n",
       "      <th>1</th>\n",
       "      <td>New York</td>\n",
       "      <td>42</td>\n",
       "      <td>NaN</td>\n",
       "    </tr>\n",
       "    <tr>\n",
       "      <th>2</th>\n",
       "      <td>Cape Town</td>\n",
       "      <td>31</td>\n",
       "      <td>NaN</td>\n",
       "    </tr>\n",
       "    <tr>\n",
       "      <th>3</th>\n",
       "      <td>Johannesburg</td>\n",
       "      <td>28</td>\n",
       "      <td>NaN</td>\n",
       "    </tr>\n",
       "    <tr>\n",
       "      <th>4</th>\n",
       "      <td>Los Angeles</td>\n",
       "      <td>22</td>\n",
       "      <td>NaN</td>\n",
       "    </tr>\n",
       "    <tr>\n",
       "      <th>5</th>\n",
       "      <td>Vancouver</td>\n",
       "      <td>22</td>\n",
       "      <td>NaN</td>\n",
       "    </tr>\n",
       "    <tr>\n",
       "      <th>6</th>\n",
       "      <td>Paris</td>\n",
       "      <td>21</td>\n",
       "      <td>NaN</td>\n",
       "    </tr>\n",
       "    <tr>\n",
       "      <th>7</th>\n",
       "      <td>Dubai</td>\n",
       "      <td>21</td>\n",
       "      <td>NaN</td>\n",
       "    </tr>\n",
       "    <tr>\n",
       "      <th>8</th>\n",
       "      <td>Edinburgh</td>\n",
       "      <td>20</td>\n",
       "      <td>NaN</td>\n",
       "    </tr>\n",
       "    <tr>\n",
       "      <th>9</th>\n",
       "      <td>Madrid</td>\n",
       "      <td>19</td>\n",
       "      <td>NaN</td>\n",
       "    </tr>\n",
       "    <tr>\n",
       "      <th>10</th>\n",
       "      <td>Las Vegas</td>\n",
       "      <td>19</td>\n",
       "      <td>NaN</td>\n",
       "    </tr>\n",
       "    <tr>\n",
       "      <th>11</th>\n",
       "      <td>Malaga</td>\n",
       "      <td>19</td>\n",
       "      <td>NaN</td>\n",
       "    </tr>\n",
       "    <tr>\n",
       "      <th>12</th>\n",
       "      <td>Hong Kong</td>\n",
       "      <td>19</td>\n",
       "      <td>NaN</td>\n",
       "    </tr>\n",
       "    <tr>\n",
       "      <th>13</th>\n",
       "      <td>Rome</td>\n",
       "      <td>17</td>\n",
       "      <td>NaN</td>\n",
       "    </tr>\n",
       "    <tr>\n",
       "      <th>14</th>\n",
       "      <td>Singapore</td>\n",
       "      <td>17</td>\n",
       "      <td>NaN</td>\n",
       "    </tr>\n",
       "    <tr>\n",
       "      <th>15</th>\n",
       "      <td>Amsterdam</td>\n",
       "      <td>17</td>\n",
       "      <td>NaN</td>\n",
       "    </tr>\n",
       "    <tr>\n",
       "      <th>16</th>\n",
       "      <td>Bangkok</td>\n",
       "      <td>17</td>\n",
       "      <td>NaN</td>\n",
       "    </tr>\n",
       "    <tr>\n",
       "      <th>17</th>\n",
       "      <td>Boston</td>\n",
       "      <td>17</td>\n",
       "      <td>NaN</td>\n",
       "    </tr>\n",
       "    <tr>\n",
       "      <th>18</th>\n",
       "      <td>Toronto</td>\n",
       "      <td>16</td>\n",
       "      <td>NaN</td>\n",
       "    </tr>\n",
       "    <tr>\n",
       "      <th>19</th>\n",
       "      <td>Miami</td>\n",
       "      <td>16</td>\n",
       "      <td>NaN</td>\n",
       "    </tr>\n",
       "  </tbody>\n",
       "</table>\n",
       "</div>"
      ],
      "text/plain": [
       "           index  Destination Country\n",
       "0         London         1031     NaN\n",
       "1       New York           42     NaN\n",
       "2      Cape Town           31     NaN\n",
       "3   Johannesburg           28     NaN\n",
       "4    Los Angeles           22     NaN\n",
       "5      Vancouver           22     NaN\n",
       "6          Paris           21     NaN\n",
       "7          Dubai           21     NaN\n",
       "8      Edinburgh           20     NaN\n",
       "9         Madrid           19     NaN\n",
       "10     Las Vegas           19     NaN\n",
       "11        Malaga           19     NaN\n",
       "12     Hong Kong           19     NaN\n",
       "13          Rome           17     NaN\n",
       "14     Singapore           17     NaN\n",
       "15     Amsterdam           17     NaN\n",
       "16       Bangkok           17     NaN\n",
       "17        Boston           17     NaN\n",
       "18       Toronto           16     NaN\n",
       "19         Miami           16     NaN"
      ]
     },
     "execution_count": 15,
     "metadata": {},
     "output_type": "execute_result"
    }
   ],
   "source": [
    "df.head(20)"
   ]
  },
  {
   "cell_type": "code",
   "execution_count": 13,
   "metadata": {
    "ExecuteTime": {
     "end_time": "2024-04-19T03:13:27.880779Z",
     "start_time": "2024-04-19T03:13:27.447049Z"
    },
    "id": "uxGswGW2Tg3p"
   },
   "outputs": [
    {
     "ename": "KeyError",
     "evalue": "'Column not found: count'",
     "output_type": "error",
     "traceback": [
      "\u001b[1;31m---------------------------------------------------------------------------\u001b[0m",
      "\u001b[1;31mKeyError\u001b[0m                                  Traceback (most recent call last)",
      "\u001b[1;32m~\\AppData\\Local\\Temp\\ipykernel_27960\\2532459204.py\u001b[0m in \u001b[0;36m<module>\u001b[1;34m\u001b[0m\n\u001b[0;32m     27\u001b[0m \u001b[1;33m\u001b[0m\u001b[0m\n\u001b[0;32m     28\u001b[0m \u001b[1;31m# Crear un nuevo DataFrame con la suma de los recuentos por país\u001b[0m\u001b[1;33m\u001b[0m\u001b[1;33m\u001b[0m\u001b[0m\n\u001b[1;32m---> 29\u001b[1;33m \u001b[0mdf_countries\u001b[0m \u001b[1;33m=\u001b[0m \u001b[0mdf\u001b[0m\u001b[1;33m.\u001b[0m\u001b[0mgroupby\u001b[0m\u001b[1;33m(\u001b[0m\u001b[1;34m'Country'\u001b[0m\u001b[1;33m)\u001b[0m\u001b[1;33m[\u001b[0m\u001b[1;34m'count'\u001b[0m\u001b[1;33m]\u001b[0m\u001b[1;33m.\u001b[0m\u001b[0msum\u001b[0m\u001b[1;33m(\u001b[0m\u001b[1;33m)\u001b[0m\u001b[1;33m.\u001b[0m\u001b[0mreset_index\u001b[0m\u001b[1;33m(\u001b[0m\u001b[1;33m)\u001b[0m\u001b[1;33m\u001b[0m\u001b[1;33m\u001b[0m\u001b[0m\n\u001b[0m",
      "\u001b[1;32m~\\anaconda3\\lib\\site-packages\\pandas\\core\\groupby\\generic.py\u001b[0m in \u001b[0;36m__getitem__\u001b[1;34m(self, key)\u001b[0m\n\u001b[0;32m   1336\u001b[0m                 \u001b[0mstacklevel\u001b[0m\u001b[1;33m=\u001b[0m\u001b[0mfind_stack_level\u001b[0m\u001b[1;33m(\u001b[0m\u001b[1;33m)\u001b[0m\u001b[1;33m,\u001b[0m\u001b[1;33m\u001b[0m\u001b[1;33m\u001b[0m\u001b[0m\n\u001b[0;32m   1337\u001b[0m             )\n\u001b[1;32m-> 1338\u001b[1;33m         \u001b[1;32mreturn\u001b[0m \u001b[0msuper\u001b[0m\u001b[1;33m(\u001b[0m\u001b[1;33m)\u001b[0m\u001b[1;33m.\u001b[0m\u001b[0m__getitem__\u001b[0m\u001b[1;33m(\u001b[0m\u001b[0mkey\u001b[0m\u001b[1;33m)\u001b[0m\u001b[1;33m\u001b[0m\u001b[1;33m\u001b[0m\u001b[0m\n\u001b[0m\u001b[0;32m   1339\u001b[0m \u001b[1;33m\u001b[0m\u001b[0m\n\u001b[0;32m   1340\u001b[0m     \u001b[1;32mdef\u001b[0m \u001b[0m_gotitem\u001b[0m\u001b[1;33m(\u001b[0m\u001b[0mself\u001b[0m\u001b[1;33m,\u001b[0m \u001b[0mkey\u001b[0m\u001b[1;33m,\u001b[0m \u001b[0mndim\u001b[0m\u001b[1;33m:\u001b[0m \u001b[0mint\u001b[0m\u001b[1;33m,\u001b[0m \u001b[0msubset\u001b[0m\u001b[1;33m=\u001b[0m\u001b[1;32mNone\u001b[0m\u001b[1;33m)\u001b[0m\u001b[1;33m:\u001b[0m\u001b[1;33m\u001b[0m\u001b[1;33m\u001b[0m\u001b[0m\n",
      "\u001b[1;32m~\\anaconda3\\lib\\site-packages\\pandas\\core\\base.py\u001b[0m in \u001b[0;36m__getitem__\u001b[1;34m(self, key)\u001b[0m\n\u001b[0;32m    248\u001b[0m         \u001b[1;32melse\u001b[0m\u001b[1;33m:\u001b[0m\u001b[1;33m\u001b[0m\u001b[1;33m\u001b[0m\u001b[0m\n\u001b[0;32m    249\u001b[0m             \u001b[1;32mif\u001b[0m \u001b[0mkey\u001b[0m \u001b[1;32mnot\u001b[0m \u001b[1;32min\u001b[0m \u001b[0mself\u001b[0m\u001b[1;33m.\u001b[0m\u001b[0mobj\u001b[0m\u001b[1;33m:\u001b[0m\u001b[1;33m\u001b[0m\u001b[1;33m\u001b[0m\u001b[0m\n\u001b[1;32m--> 250\u001b[1;33m                 \u001b[1;32mraise\u001b[0m \u001b[0mKeyError\u001b[0m\u001b[1;33m(\u001b[0m\u001b[1;34mf\"Column not found: {key}\"\u001b[0m\u001b[1;33m)\u001b[0m\u001b[1;33m\u001b[0m\u001b[1;33m\u001b[0m\u001b[0m\n\u001b[0m\u001b[0;32m    251\u001b[0m             \u001b[0msubset\u001b[0m \u001b[1;33m=\u001b[0m \u001b[0mself\u001b[0m\u001b[1;33m.\u001b[0m\u001b[0mobj\u001b[0m\u001b[1;33m[\u001b[0m\u001b[0mkey\u001b[0m\u001b[1;33m]\u001b[0m\u001b[1;33m\u001b[0m\u001b[1;33m\u001b[0m\u001b[0m\n\u001b[0;32m    252\u001b[0m             \u001b[0mndim\u001b[0m \u001b[1;33m=\u001b[0m \u001b[0msubset\u001b[0m\u001b[1;33m.\u001b[0m\u001b[0mndim\u001b[0m\u001b[1;33m\u001b[0m\u001b[1;33m\u001b[0m\u001b[0m\n",
      "\u001b[1;31mKeyError\u001b[0m: 'Column not found: count'"
     ]
    }
   ],
   "source": [
    "# Asignar los países a las ciudades (usando solo una para demostración)\n",
    "city_to_country = {\n",
    "    'London': 'United Kingdom',\n",
    "    'New York': 'United States',\n",
    "    'Cape Town': 'South Africa',\n",
    "    'Johannesburg': 'South Africa',\n",
    "    'Los Angeles': 'United States',\n",
    "    'Vancouver': 'Canada',\n",
    "    'Paris': 'France',\n",
    "    'Dubai': 'United Arab Emirates',\n",
    "    'Edinburgh': 'United Kingdom',\n",
    "    'Madrid': 'Spain',\n",
    "    'Las Vegas': 'United States',\n",
    "    'Malaga': 'Spain',\n",
    "    'Hong Kong': 'China',\n",
    "    'Rome': 'Italy',\n",
    "    'Singapore': 'Singapore',\n",
    "    'Amsterdam': 'Netherlands',\n",
    "    'Bangkok': 'Thailand',\n",
    "    'Boston': 'United States',\n",
    "    'Toronto': 'Canada',\n",
    "    'Miami': 'United States'\n",
    "}\n",
    "\n",
    "# Mapear los países a las ciudades\n",
    "df['Country'] = df['Destination'].map(city_to_country)\n",
    "\n",
    "# Crear un nuevo DataFrame con la suma de los recuentos por país\n",
    "df_countries = df.groupby('Country')['count'].sum().reset_index()"
   ]
  },
  {
   "cell_type": "code",
   "execution_count": null,
   "metadata": {
    "ExecuteTime": {
     "end_time": "2024-04-19T03:13:27.881781Z",
     "start_time": "2024-04-19T03:13:27.881781Z"
    },
    "colab": {
     "base_uri": "https://localhost:8080/"
    },
    "executionInfo": {
     "elapsed": 24262,
     "status": "ok",
     "timestamp": 1713490258775,
     "user": {
      "displayName": "Yamira Roa",
      "userId": "12442332782614068861"
     },
     "user_tz": 240
    },
    "id": "4uDpWG9wUIjM",
    "outputId": "1d432821-aa42-496a-f207-ef74012986e7"
   },
   "outputs": [],
   "source": [
    "!pip install geodatasets"
   ]
  },
  {
   "cell_type": "code",
   "execution_count": null,
   "metadata": {
    "ExecuteTime": {
     "end_time": "2024-04-19T03:13:27.882781Z",
     "start_time": "2024-04-19T03:13:27.882781Z"
    },
    "colab": {
     "base_uri": "https://localhost:8080/",
     "height": 617
    },
    "executionInfo": {
     "elapsed": 1544,
     "status": "ok",
     "timestamp": 1713495662602,
     "user": {
      "displayName": "Yamira Roa",
      "userId": "12442332782614068861"
     },
     "user_tz": 240
    },
    "id": "rA3y--QyTg51",
    "outputId": "3eb38316-565b-4c0c-841e-c399db1ec1b6"
   },
   "outputs": [],
   "source": [
    "import plotly.express as px\n",
    "# Asignar los países a las ciudades (usando solo una para demostración)\n",
    "\n",
    "# Crear el mapa coroplético\n",
    "fig = px.choropleth(df_countries, locations='Country', locationmode='country names', color='count',\n",
    "                    color_continuous_scale='Plasma', range_color=(0, df_countries['count'].max()),\n",
    "                    labels={'count': 'Cantidad'})\n",
    "fig.update_geos(projection_type=\"natural earth\")\n",
    "\n",
    "fig.update_layout(title='Mapa Coroplético de las ciudades con mayor destino de vuelo',\n",
    "                  title_x=0.5,  # Centrar el título\n",
    "                  title_font_color='#7FDBFF',  # Color del título\n",
    "                  height=600, width=1000, plot_bgcolor='black', paper_bgcolor='black',\n",
    "                  geo=dict(bgcolor= 'rgba(0,0,0,0)'))\n",
    "fig.update_layout(font=dict(color='#7FDBFF'))\n",
    "fig.show(config={'scrollZoom': True})\n"
   ]
  },
  {
   "cell_type": "markdown",
   "metadata": {
    "id": "pP20l1eph5OI"
   },
   "source": [
    "## Mapa de calor"
   ]
  },
  {
   "cell_type": "code",
   "execution_count": null,
   "metadata": {
    "ExecuteTime": {
     "end_time": "2024-04-19T03:13:27.883781Z",
     "start_time": "2024-04-19T03:13:27.883781Z"
    },
    "colab": {
     "base_uri": "https://localhost:8080/",
     "height": 719
    },
    "executionInfo": {
     "elapsed": 11207,
     "status": "ok",
     "timestamp": 1713493110258,
     "user": {
      "displayName": "Yamira Roa",
      "userId": "12442332782614068861"
     },
     "user_tz": 240
    },
    "id": "xJnlW5IGh_-v",
    "outputId": "83041fc7-3edb-46b0-d523-42ea919edd61"
   },
   "outputs": [],
   "source": [
    "plt.subplots(figsize=(8, 8))\n",
    "df_2dhist = pd.DataFrame({\n",
    "    x_label: grp['Seat_Types'].value_counts()\n",
    "    for x_label, grp in data.groupby('Type_of_Travellers')\n",
    "})\n",
    "\n",
    "# Reordenar las filas del DataFrame\n",
    "nuevo_orden_filas = ['Economy Class', 'Premium Economy', 'Business Class', 'First Class']  # Cambia esto por el orden deseado\n",
    "df_2dhist = df_2dhist.reindex(nuevo_orden_filas)\n",
    "\n",
    "sns.heatmap(df_2dhist, cmap='plasma')\n",
    "plt.xlabel('Type_of_Travellers', color='white')\n",
    "_ = plt.ylabel('Seat_Types', color='white')\n",
    "plt.title('Relación tipo de asiento vs tipo de pasajero', color='white')\n",
    "plt.gcf().set_facecolor('black')"
   ]
  },
  {
   "cell_type": "markdown",
   "metadata": {
    "id": "RRbgPdUkiQ70"
   },
   "source": [
    "## Serie de tiempo"
   ]
  },
  {
   "cell_type": "code",
   "execution_count": null,
   "metadata": {
    "ExecuteTime": {
     "end_time": "2024-04-19T03:13:27.884781Z",
     "start_time": "2024-04-19T03:13:27.884781Z"
    },
    "colab": {
     "base_uri": "https://localhost:8080/"
    },
    "executionInfo": {
     "elapsed": 533,
     "status": "ok",
     "timestamp": 1713483597330,
     "user": {
      "displayName": "Yamira Roa",
      "userId": "12442332782614068861"
     },
     "user_tz": 240
    },
    "id": "DQq5eB2FiJUm",
    "outputId": "de92ea83-0a85-4c83-dee8-909b54de5195"
   },
   "outputs": [],
   "source": [
    "# Grafica la serie de tiempo por mes\n",
    "sns.set_palette('plasma')\n",
    "plt.figure(figsize=(10, 6))\n",
    "serie_tiempo_por_mes.plot()\n",
    "plt.title('Serie de Tiempo de Pasajeros por Mes')\n",
    "plt.xlabel('Mes')\n",
    "plt.ylabel('Número de Pasajeros')\n",
    "plt.grid(True)\n",
    "plt.show()"
   ]
  },
  {
   "cell_type": "markdown",
   "metadata": {
    "id": "EZoscTxamDiB"
   },
   "source": [
    "## Nube de palabras"
   ]
  },
  {
   "cell_type": "code",
   "execution_count": null,
   "metadata": {
    "ExecuteTime": {
     "end_time": "2024-04-19T03:13:27.885782Z",
     "start_time": "2024-04-19T03:13:27.885782Z"
    },
    "id": "XQSGIfl-CC4y"
   },
   "outputs": [],
   "source": [
    "# Filtrar las filas donde 'Recommended' es 'yes' y seleccionar solo la columna 'Users Reviews'\n",
    "reviews_recommended = data.loc[data['Recommended'] == 'yes', 'Users Reviews']\n",
    "positivo = reviews_recommended.tolist()\n",
    "# Filtrar las filas donde 'Recommended' es 'no' y seleccionar solo la columna 'Users Reviews'\n",
    "reviews_no_recommended = data.loc[data['Recommended'] == 'no', 'Users Reviews']\n",
    "negativo = reviews_no_recommended.tolist()"
   ]
  },
  {
   "cell_type": "code",
   "execution_count": null,
   "metadata": {
    "ExecuteTime": {
     "end_time": "2024-04-19T03:13:27.886783Z",
     "start_time": "2024-04-19T03:13:27.886783Z"
    },
    "colab": {
     "base_uri": "https://localhost:8080/"
    },
    "executionInfo": {
     "elapsed": 33284,
     "status": "ok",
     "timestamp": 1713490348520,
     "user": {
      "displayName": "Yamira Roa",
      "userId": "12442332782614068861"
     },
     "user_tz": 240
    },
    "id": "2JWHpN_RCGd4",
    "outputId": "0d39cb2b-ef71-46d1-e785-5f0724d66e5e"
   },
   "outputs": [],
   "source": [
    "import re\n",
    "import string\n",
    "from wordcloud import WordCloud\n",
    "\n",
    "\n",
    "# Definir la función clean_text con eliminación de palabras específicas\n",
    "def clean_text(text):\n",
    "    text = text.lower()  # Transforma el texto a minúsculas\n",
    "    text = re.sub('\\[.*?¿\\]\\%', ' ', text)  # Remueve texto entre corchetes y porcentaje\n",
    "    text = re.sub('[%s¿¡]' % re.escape(string.punctuation), ' ', text)  # Remueve signos de puntuación\n",
    "    text = re.sub('\\w*\\d\\w*', '', text)  # Remueve palabras que contienen dígitos\n",
    "    text = re.sub('[‘’“”…«»]', '', text)\n",
    "    text = re.sub('lt', '', text)\n",
    "    text = re.sub('\\r\\n', ' ', text)\n",
    "\n",
    "    # Eliminar palabras específicas\n",
    "    words_to_remove = ['flight', 'seat', 'ba']  # Agrega aquí las palabras que deseas eliminar\n",
    "    for word in words_to_remove:\n",
    "        text = text.replace(word, '')\n",
    "\n",
    "    return text\n",
    "\n",
    "# Convertir las listas de comentarios a texto y aplicar la limpieza\n",
    "positivo_text = ' '.join([clean_text(comment) for comment in positivo])\n",
    "negativo_text = ' '.join([clean_text(comment) for comment in negativo])\n",
    "\n",
    "# Crear una instancia de WordCloud para comentarios positivos\n",
    "wordcloud_positivo = WordCloud(width=800, height=400, background_color='black').generate(positivo_text)\n",
    "\n",
    "# Crear una instancia de WordCloud para comentarios negativos\n",
    "wordcloud_negativo = WordCloud(width=800, height=400, background_color='black').generate(negativo_text)\n",
    "\n",
    "# Mostrar la nube de palabras para comentarios positivos\n",
    "plt.figure(figsize=(10, 5))\n",
    "plt.imshow(wordcloud_positivo, interpolation='bilinear')\n",
    "plt.title('WordCloud para Comentarios Positivos')\n",
    "plt.axis('off')\n",
    "plt.show()\n",
    "\n",
    "# Mostrar la nube de palabras para comentarios negativos\n",
    "plt.figure(figsize=(10, 5))\n",
    "plt.imshow(wordcloud_negativo, interpolation='bilinear')\n",
    "plt.title('WordCloud para Comentarios Negativos')\n",
    "plt.axis('off')\n",
    "plt.show()"
   ]
  },
  {
   "cell_type": "markdown",
   "metadata": {
    "id": "uRywLwpHCKvl"
   },
   "source": [
    "## Grafico de torta"
   ]
  },
  {
   "cell_type": "code",
   "execution_count": null,
   "metadata": {
    "ExecuteTime": {
     "end_time": "2024-04-19T03:13:27.887782Z",
     "start_time": "2024-04-19T03:13:27.887782Z"
    },
    "colab": {
     "base_uri": "https://localhost:8080/"
    },
    "executionInfo": {
     "elapsed": 2317,
     "status": "ok",
     "timestamp": 1713490365203,
     "user": {
      "displayName": "Yamira Roa",
      "userId": "12442332782614068861"
     },
     "user_tz": 240
    },
    "id": "HtuHsWrHCM0L",
    "outputId": "ead69472-9a01-465e-884e-cd9b2db3bc40"
   },
   "outputs": [],
   "source": [
    " # Configurar la paleta de colores\n",
    "sns.set_palette(\"plasma\")\n",
    "\n",
    "# Contar la frecuencia de cada tipo de viajero\n",
    "tipo_viajero_counts = data['Type_of_Travellers'].value_counts()\n",
    "\n",
    "# Crear el gráfico de torta con Seaborn\n",
    "plt.figure(figsize=(8, 6))\n",
    "plt.pie(tipo_viajero_counts, labels=tipo_viajero_counts.index, autopct='%1.1f%%', startangle=140)\n",
    "plt.title('Distribución de tipos de viajeros')\n",
    "plt.axis('equal')  # Equal aspect ratio ensures that pie is drawn as a circle.\n",
    "plt.show()"
   ]
  },
  {
   "cell_type": "markdown",
   "metadata": {
    "id": "yz6_bouzfAXa"
   },
   "source": [
    "#Dashboard"
   ]
  },
  {
   "cell_type": "code",
   "execution_count": null,
   "metadata": {
    "ExecuteTime": {
     "end_time": "2024-04-19T03:13:27.888782Z",
     "start_time": "2024-04-19T03:13:27.888782Z"
    },
    "id": "JkAQyVOKiVcL"
   },
   "outputs": [],
   "source": [
    "!pip install dash\n",
    "!pip install dash-bootstrap-components"
   ]
  },
  {
   "cell_type": "code",
   "execution_count": null,
   "metadata": {
    "ExecuteTime": {
     "end_time": "2024-04-19T03:13:27.890285Z",
     "start_time": "2024-04-19T03:13:27.890285Z"
    },
    "id": "FdwOdfN9e_LW"
   },
   "outputs": [],
   "source": [
    "import dash\n",
    "from dash import dcc, html\n",
    "import plotly.graph_objs as go\n",
    "import pandas as pd\n",
    "import seaborn as sns\n",
    "from wordcloud import WordCloud"
   ]
  },
  {
   "cell_type": "code",
   "execution_count": null,
   "metadata": {
    "ExecuteTime": {
     "end_time": "2024-04-19T03:13:27.891296Z",
     "start_time": "2024-04-19T03:13:27.891296Z"
    },
    "colab": {
     "base_uri": "https://localhost:8080/",
     "height": 671
    },
    "executionInfo": {
     "elapsed": 16257,
     "status": "ok",
     "timestamp": 1713495689095,
     "user": {
      "displayName": "Yamira Roa",
      "userId": "12442332782614068861"
     },
     "user_tz": 240
    },
    "id": "BzuKe-ApXr3Y",
    "outputId": "d64d042a-2227-4032-f5f1-0e4f995f1b08"
   },
   "outputs": [],
   "source": [
    "# Definir la aplicación Dash\n",
    "app = dash.Dash(__name__)\n",
    "\n",
    "# Estilo de los gráficos\n",
    "graph_style = {'width': '40%', 'height': '300px'}  # Puedes ajustar el ancho y el alto según tus necesidades\n",
    "colors = {\n",
    "    'negro' :'#000000',\n",
    "    'background': '#111111',\n",
    "    'text': '#7FDBFF'\n",
    "}\n",
    "\n",
    "# Definir los gráficos\n",
    "# Gráfico de torta\n",
    "tipo_viajero_counts = data['Type_of_Travellers'].value_counts()\n",
    "pie_chart = dcc.Graph(\n",
    "    id='pie-chart',\n",
    "    figure={\n",
    "        'data': [go.Pie(\n",
    "            labels=tipo_viajero_counts.index,\n",
    "            values=tipo_viajero_counts.values,\n",
    "            textinfo='label+percent',\n",
    "            insidetextorientation='radial',\n",
    "            textposition='inside',\n",
    "            hole=0.5,\n",
    "            marker=dict(colors=sns.color_palette(\"plasma\", len(tipo_viajero_counts)))\n",
    "        )],\n",
    "        'layout': {\n",
    "            'title': 'Distribución de tipos de viajeros',\n",
    "            'plot_bgcolor': '#000000',  # Cambio de color de fondo\n",
    "            'paper_bgcolor': '#000000',  # Cambio de color de fondo\n",
    "            'font': {\n",
    "                'color': colors['text']\n",
    "            }\n",
    "        }\n",
    "    }\n",
    ")\n",
    "\n",
    "# Nube de palabras para comentarios positivos\n",
    "wordcloud_positivo = WordCloud(width=800, height=400, background_color='black').generate(positivo_text)\n",
    "positive_wordcloud = html.Div([\n",
    "    html.H2(children='Nube de palabras para Comentarios Positivos', style={'color': colors['text']}),\n",
    "    html.Img(src=wordcloud_positivo.to_image(), style={'width': '100%', 'height': 'auto'})\n",
    "])\n",
    "\n",
    "# Nube de palabras para comentarios negativos\n",
    "wordcloud_negativo = WordCloud(width=800, height=400, background_color='black').generate(negativo_text)\n",
    "negative_wordcloud = html.Div([\n",
    "    html.H2(children='Nube de palabras para Comentarios Negativos', style={'color': colors['text']}),\n",
    "    html.Img(src=wordcloud_negativo.to_image(), style={'width': '100%', 'height': 'auto'})\n",
    "])\n",
    "\n",
    "# Gráfico de serie de tiempo\n",
    "time_series_graph = dcc.Graph(\n",
    "    id='time-series-graph',\n",
    "    figure={\n",
    "        'data': [go.Scatter(\n",
    "            x=serie_tiempo_por_mes.index,\n",
    "            y=serie_tiempo_por_mes.values,\n",
    "            mode='lines',\n",
    "            marker=dict(color='#FF851B')\n",
    "        )],\n",
    "        'layout': {\n",
    "            'title': 'Serie de Tiempo de Pasajeros por Mes del 2024',\n",
    "            'xaxis': {'title': 'Mes'},\n",
    "            'yaxis': {'title': 'Número de Pasajeros'},\n",
    "            'plot_bgcolor': '#000000',  # Cambio de color de fondo\n",
    "            'paper_bgcolor': '#000000',  # Cambio de color de fondo\n",
    "            'font': {\n",
    "                'color': colors['text']\n",
    "            }\n",
    "        }\n",
    "    }\n",
    ")\n",
    "\n",
    "# Mapa de calor\n",
    "heatmap = dcc.Graph(\n",
    "    id='heatmap',\n",
    "    figure={\n",
    "        'data': [go.Heatmap(\n",
    "            z=df_2dhist.values,\n",
    "            y=df_2dhist.index,\n",
    "            x=df_2dhist.columns,\n",
    "            colorscale='Plasma'\n",
    "        )],\n",
    "        'layout': {\n",
    "            'title': 'Relación tipo de asiento vs tipo de pasajero',\n",
    "            'yaxis': {'title': 'Seat_Types', 'tickangle': -20},\n",
    "            'xaxis': {'title': 'Type_of_Travellers', 'tickangle': -30},\n",
    "            'plot_bgcolor': '#000000',  # Cambio de color de fondo\n",
    "            'paper_bgcolor': '#000000',  # Cambio de color de fondo\n",
    "            'font': {\n",
    "                'color': colors['text']\n",
    "            },\n",
    "            'margin': {'l': 150,'t': 50, 'b': 100}  # Ajuste de los márgenes superior e inferior\n",
    "        }\n",
    "    }\n",
    ")\n",
    "# Mapa coroplético\n",
    "choropleth_map = dcc.Graph(\n",
    "    id='choropleth-map',\n",
    "    figure=fig\n",
    ")\n",
    "\n",
    "\n",
    "# Crear el layout del dashboard\n",
    "# Agregar los gráficos al layout con la disposición deseada utilizando Flexbox\n",
    "app.layout = html.Div(style={'backgroundColor': colors['negro'], 'padding': '20px'}, children=[\n",
    "    html.H1(\n",
    "        children='Airlines: Análisis de Datos de Viajes',\n",
    "        style={\n",
    "            'textAlign': 'center',\n",
    "            'color': colors['text'],\n",
    "            'marginBottom': '20px'  # Añade margen inferior al título\n",
    "        }\n",
    "    ),\n",
    "    html.Div(\n",
    "        children='El conjunto de datos Airlines proporciona una amplia colección de comentarios de pasajeros sobre su experiencia de vuelo,  ofreciendo información sobre la satisfacción del cliente y la calidad del servicio.',\n",
    "        style={\n",
    "            'textAlign': 'center',\n",
    "            'color': colors['text'],\n",
    "            'marginBottom': '20px'  # Añade margen inferior al texto\n",
    "        }\n",
    "    ),\n",
    "    # Primera fila\n",
    "    # Primera fila\n",
    "    html.Div([\n",
    "        html.Div([choropleth_map], style={'margin': 'auto', 'display': 'flex', 'justifyContent': 'center'})\n",
    "    ], style={'textAlign': 'center'}),\n",
    "    # Segunda fila\n",
    "    html.Div([\n",
    "        html.Div([pie_chart], style={'flex': '45%', 'marginRight': '10px'}),\n",
    "        html.Div([time_series_graph], style={'flex': '55%'})\n",
    "    ], style={'display': 'flex', 'justifyContent': 'space-around', 'marginBottom': '20px'}),\n",
    "\n",
    "    # Tercera fila\n",
    "    html.Div([\n",
    "        html.Div([negative_wordcloud],style={'flex': '30%', 'marginRight': '10px'}),  # Agrega margen derecha\n",
    "        html.Div([positive_wordcloud],style={'flex': '30%', 'marginLeft': '10px'}),  # Agrega margen izquierda\n",
    "        html.Div([heatmap], style={'flex': '40%'})\n",
    "    ], style={'display': 'flex', 'justifyContent': 'space-around', 'marginBottom': '20px'}),\n",
    "])\n",
    "\n",
    "\n",
    "if __name__ == '__main__':\n",
    "    #app.run_server(debug=True)\n",
    "    app.run_server(debug=True, use_reloader=False)\n"
   ]
  }
 ],
 "metadata": {
  "colab": {
   "collapsed_sections": [
    "MnAqKk_SlYCp",
    "nHMDegCETYAx",
    "pP20l1eph5OI",
    "RRbgPdUkiQ70",
    "EZoscTxamDiB",
    "uRywLwpHCKvl"
   ],
   "provenance": []
  },
  "hide_input": false,
  "kernelspec": {
   "display_name": "Python 3 (ipykernel)",
   "language": "python",
   "name": "python3"
  },
  "language_info": {
   "codemirror_mode": {
    "name": "ipython",
    "version": 3
   },
   "file_extension": ".py",
   "mimetype": "text/x-python",
   "name": "python",
   "nbconvert_exporter": "python",
   "pygments_lexer": "ipython3",
   "version": "3.9.13"
  },
  "toc": {
   "base_numbering": 1,
   "nav_menu": {},
   "number_sections": true,
   "sideBar": true,
   "skip_h1_title": false,
   "title_cell": "Table of Contents",
   "title_sidebar": "Contents",
   "toc_cell": false,
   "toc_position": {},
   "toc_section_display": true,
   "toc_window_display": false
  }
 },
 "nbformat": 4,
 "nbformat_minor": 1
}
